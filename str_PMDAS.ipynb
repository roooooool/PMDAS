{
  "cells": [
    {
      "cell_type": "markdown",
      "metadata": {
        "id": "view-in-github",
        "colab_type": "text"
      },
      "source": [
        "<a href=\"https://colab.research.google.com/github/roooooool/PMDAS/blob/main/str_PMDAS.ipynb\" target=\"_parent\"><img src=\"https://colab.research.google.com/assets/colab-badge.svg\" alt=\"Open In Colab\"/></a>"
      ]
    },
    {
      "cell_type": "markdown",
      "source": [
        "# All Function"
      ],
      "metadata": {
        "id": "OYAxVWCDHCZv"
      }
    },
    {
      "cell_type": "code",
      "execution_count": 184,
      "metadata": {
        "id": "lPkHqmquAFYp"
      },
      "outputs": [],
      "source": [
        "from re import S\n",
        "\n",
        "i = []\n",
        "symbol = []\n",
        "final = 0\n",
        "l = []\n",
        "\n",
        "\n",
        "def dissect_parenthesis(raw_inp):\n",
        "  inp = raw_inp\n",
        "\n",
        "  #find index of open and closed parenthesis\n",
        "  p2 = inp.index(\")\")\n",
        "  p1 = 0\n",
        "  for k in range(p2-1,-1,-1):\n",
        "    if(inp[k]==\"(\"): break\n",
        "  p1 = k\n",
        "\n",
        "  result = []\n",
        "  #seperate its content\n",
        "  to_be_process = []\n",
        "  for c in inp[p1+1:p2]:\n",
        "    to_be_process.append(c)\n",
        "  to_be_process.append(\";\")\n",
        "\n",
        "  topop = (p2) - (p1-1)\n",
        "  for x in range(0,topop):\n",
        "    inp.pop(p1)\n",
        "  result = [p1,to_be_process,inp] # [0]p1 = dissected index, [1]to_be_process = section, [3]inp = dissected input\n",
        "  return result\n",
        "\n",
        "\n",
        "\n",
        "def remove_spaces(inp):\n",
        "  #removed all spaces \" \"\n",
        "  removed_spaces = []\n",
        "  for a in inp:\n",
        "    if(a != ' '):\n",
        "      if(a == '+' or a == '-' or a == '*' or a == '/' or a == '(' or a == ')'):\n",
        "        removed_spaces.append(a)\n",
        "      else:\n",
        "        removed_spaces.append(a)\n",
        "  removed_spaces.append(';')\n",
        "  # print(removed_spaces)\n",
        "\n",
        "  return removed_spaces\n",
        "\n",
        "\n",
        "\n",
        "def insert_mul(inp):\n",
        "  ins_mul = inp\n",
        "  # print(ins_mul)\n",
        "\n",
        "  for i in range(0,len(ins_mul)-1):\n",
        "    a1 = ins_mul[i]\n",
        "    a2 = ins_mul[i+1]\n",
        "\n",
        "    if((a1 == \")\") and not((a2 == \"+\") or (a2 == \"/\") or (a2 == \"x\") or (a2 == \"*\")\n",
        "        or (a2 == \"-\") or (a2 == \")\") or (a2 == \";\"))):\n",
        "\n",
        "      # print(ins_mul[i] + ' : ' + ins_mul[i+1])\n",
        "      ins_mul.insert(i+1,\"*\")\n",
        "\n",
        "    elif(not((a1 == \"+\") or (a1 == \"/\") or (a1 == \"x\") or (a1 == \"*\") or (a1 == \"-\")\n",
        "        or (a1 == \"(\") or (a2 == \";\")) and (a2 == \"(\")):\n",
        "\n",
        "      # print(ins_mul[i] + ' : ' + ins_mul[i+1])\n",
        "      ins_mul.insert(i+1,\"x\")\n",
        "\n",
        "  # print(ins_mul)\n",
        "  return ins_mul\n",
        "\n",
        "\n",
        "\n",
        "def process_input(inp):\n",
        "  #separate symbols and numbers\n",
        "  digits = ''\n",
        "  for a2 in inp:\n",
        "    if(a2 == '+' or a2 == '-' or a2 == '*' or a2 == '/' or a2 == 'x' or a2 == ';'):\n",
        "      if(len(digits)>0):\n",
        "        if(a2!=';'): symbol.append(a2)\n",
        "        i.append(float(digits))\n",
        "        digits = ''\n",
        "      else:\n",
        "        digits += a2\n",
        "    else:\n",
        "      digits += a2\n",
        "\n",
        "  #put to list l[symbol,number]\n",
        "  init = '+'\n",
        "  c = 0\n",
        "\n",
        "  l.append([init,i[c]])\n",
        "  for s in symbol:\n",
        "    l.append([s,i[c+1]])\n",
        "    c+=1\n",
        "\n",
        "\n",
        "\n",
        "def compute(final):\n",
        "  while(len(l)>1):\n",
        "    # [print(\"l[]: \" , l)] #for debug\n",
        "\n",
        "    symbols = ['*','/','x','+','-'] #  [*]Multiplication >> [/]Division >> [x]ConvParenthesis >> [+]Addtion >> [-]Subtraction\n",
        "\n",
        "    index = ''\n",
        "    for s in symbols:\n",
        "      index = search_next(l,s)\n",
        "      if(index): break\n",
        "\n",
        "\n",
        "    a = l[index-1][1]\n",
        "    b = l[index][1]\n",
        "    sym = l[index][0]\n",
        "\n",
        "    if(sym=='+'):\n",
        "      a += b\n",
        "    if(sym=='-'):\n",
        "      a -= b\n",
        "    if(sym=='*' or sym=='x'):\n",
        "      a *= b\n",
        "    if(sym=='/'):\n",
        "      a /= b\n",
        "\n",
        "    l.insert(index+1,[l[index-1][0],a])\n",
        "\n",
        "    l.pop(index)\n",
        "    if(len(l)>0): l.pop(index-1)\n",
        "\n",
        "\n",
        "\n",
        "\n",
        "  # print('Result = ',l[0][1])\n",
        "\n",
        "  return str(l[0][1])\n",
        "\n",
        "\n",
        "\n",
        "def search_next(processed_list,symbol):\n",
        "  f = 0\n",
        "  w = 0\n",
        "  for num in processed_list:\n",
        "    if(num[0]==symbol):\n",
        "      w = f\n",
        "      break\n",
        "    f+=1\n",
        "  return w\n",
        "\n",
        "def clear_all():\n",
        "  i.clear()\n",
        "  symbol.clear()\n",
        "  l.clear()\n",
        "  final = 0\n",
        "\n",
        "def solve(user_inp):\n",
        "  #check if user decides to exit program\n",
        "  if(not user_inp or user_inp[0]==' '): user_inp = 'x'\n",
        "  if(user_inp[0].lower() != 'x'):\n",
        "    finish = False\n",
        "    err = False\n",
        "\n",
        "    #clean input\n",
        "    inp = insert_mul(remove_spaces('(' + user_inp + ')'))      # 1) remove spaces & translate parenthesis\n",
        "    while(not finish):\n",
        "      clear_all() #make sure global variables are cleared\n",
        "\n",
        "      #for showing solution\n",
        "      show = ''\n",
        "      for wew in inp:\n",
        "        if(wew==\";\"): break\n",
        "        show += wew + ' '\n",
        "      print(show)\n",
        "\n",
        "      #process\n",
        "      dissected = dissect_parenthesis(inp)                     # 2) dissect parenthesis\n",
        "      section_index = dissected[0]\n",
        "      section = dissected[1]\n",
        "      inp = dissected[2]\n",
        "\n",
        "      #solve\n",
        "      try:\n",
        "        y = process_input(section)                           # 3) convert to workable format\n",
        "        inp.insert(section_index,compute(y))                # 4) compute\n",
        "      except Exception as e:\n",
        "        #catch any error in computation\n",
        "        print(e)\n",
        "        err = True\n",
        "\n",
        "      #check if there's nothing to compute\n",
        "      try:\n",
        "        inp.index(\"(\")\n",
        "      except:\n",
        "        finish = True\n",
        "\n",
        "    if(not err): print('= ',float(inp[0]))                    # 5) how final answer\n",
        "\n",
        "  return user_inp                                             # 6) return"
      ]
    },
    {
      "cell_type": "code",
      "source": [
        "solve('(1+2) + (3 + 4)')\n",
        "solve('(1 + 2 * (8 / 2 - (-1 - 1)))')\n",
        "solve('1/2(3+4)')"
      ],
      "metadata": {
        "id": "7WdR7CoL_Q0b"
      },
      "execution_count": null,
      "outputs": []
    },
    {
      "cell_type": "code",
      "source": [
        "solve('(1+2) + (3 + 4)')"
      ],
      "metadata": {
        "id": "T8roUXAJesk4"
      },
      "execution_count": null,
      "outputs": []
    },
    {
      "cell_type": "markdown",
      "source": [
        "# Main"
      ],
      "metadata": {
        "id": "imb30uuCHFBc"
      }
    },
    {
      "cell_type": "code",
      "source": [
        "# Parenthesis >> Multiplication >> Division >> Addition >> Subtraction\n",
        "a = \"a\"\n",
        "print(\"type 'x' to quit program\")\n",
        "\n",
        "while(a[0].lower() != \"x\"):\n",
        "  a = solve(input('Insert Equation: '))\n",
        "print(\"End\")"
      ],
      "metadata": {
        "id": "zNNPNDoAFYbk",
        "colab": {
          "base_uri": "https://localhost:8080/"
        },
        "outputId": "3695dec9-5e92-4330-db62-1e5d4edb1007"
      },
      "execution_count": 185,
      "outputs": [
        {
          "output_type": "stream",
          "name": "stdout",
          "text": [
            "type 'x' to quit program\n",
            "Insert Equation:  \n",
            "End\n"
          ]
        }
      ]
    }
  ],
  "metadata": {
    "colab": {
      "provenance": [],
      "authorship_tag": "ABX9TyMxX2P59poXWgQbDlMlkSeK",
      "include_colab_link": true
    },
    "kernelspec": {
      "display_name": "Python 3",
      "name": "python3"
    },
    "language_info": {
      "name": "python"
    }
  },
  "nbformat": 4,
  "nbformat_minor": 0
}